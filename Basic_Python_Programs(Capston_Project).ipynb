{
  "nbformat": 4,
  "nbformat_minor": 0,
  "metadata": {
    "colab": {
      "provenance": [],
      "authorship_tag": "ABX9TyNUw5omue2DqIIzB8nAxAD+",
      "include_colab_link": true
    },
    "kernelspec": {
      "name": "python3",
      "display_name": "Python 3"
    },
    "language_info": {
      "name": "python"
    }
  },
  "cells": [
    {
      "cell_type": "markdown",
      "metadata": {
        "id": "view-in-github",
        "colab_type": "text"
      },
      "source": [
        "<a href=\"https://colab.research.google.com/github/Lipun101/Python-Programs/blob/main/Basic_Python_Programs(Capston_Project).ipynb\" target=\"_parent\"><img src=\"https://colab.research.google.com/assets/colab-badge.svg\" alt=\"Open In Colab\"/></a>"
      ]
    },
    {
      "cell_type": "markdown",
      "source": [
        "# **Bunch Of Python codes**. **Bringing out something from  different scenarios.**"
      ],
      "metadata": {
        "id": "1h9Lsob8iidQ"
      }
    },
    {
      "cell_type": "markdown",
      "source": [
        "# **Score Board Operator**"
      ],
      "metadata": {
        "id": "zue3OHA2P27_"
      }
    },
    {
      "cell_type": "markdown",
      "source": [
        "Score Board Operator\n",
        "An operator working behind the scoreboard of a inter cohort AlmaBetter cricket tournament, is responsible for updating the scores and points of each team. However, the operator is currently facing a challenge. He has been tasked with updating the total number of points gained by Team London, but he does not possess the necessary programming skills to complete this task. According to the tournament's rules, teams are awarded the following points based on the outcome of a match:\n",
        "\n",
        "wins: 3 points\n",
        "\n",
        "draws: 1 point\n",
        "\n",
        "losses: 0\n",
        "\n",
        "Team London has played 8 matches in this tournament. They won 4 matches, lost 3 matches and drew 1. The operator is in need of assistance to calculate the total number of points earned by Team London. As a python expert adept with knowledge of integer, floats and boolean, you can help the operator by writing a solution for the following problem.\n",
        "\n",
        "What would your approach be?\n"
      ],
      "metadata": {
        "id": "ePz8rTcrOJFh"
      }
    },
    {
      "cell_type": "code",
      "execution_count": null,
      "metadata": {
        "colab": {
          "base_uri": "https://localhost:8080/"
        },
        "id": "mjA-M3qRN0pi",
        "outputId": "8668647c-87f8-4e4c-b35b-d1fdda94bc79"
      },
      "outputs": [
        {
          "output_type": "stream",
          "name": "stdout",
          "text": [
            "Team London has played 8 matches in this tournament.\n",
            "\n",
            "winning points per match : 3\n",
            "How many matches they won : 4\n",
            "Total winning points of team London is 12 points\n",
            "\n",
            "Draw points per match : 1\n",
            "Number of draw matches :1\n",
            "Total draw points of team London is 1 points\n",
            "\n",
            "losses points per match : 0\n",
            "Number of loosing matches :3\n",
            "Total loosing points of team London is 0 points\n",
            "\n",
            "\n",
            "Total points of Team London is 13 Points\n"
          ]
        }
      ],
      "source": [
        "# Though input are fixed still i tried to make this fragment dynamic\n",
        "\n",
        "# Team London\n",
        "\n",
        "print(\"Team London has played 8 matches in this tournament.\\n\")\n",
        "win_points = int(input(\"winning points per match : \"))\n",
        "won_match =  int(input(\"How many matches they won : \"))\n",
        "points = won_match * win_points\n",
        "print(f'Total winning points of team London is {points} points\\n')\n",
        "\n",
        "draws = int(input(\"Draw points per match : \"))\n",
        "d_match = int(input(\"Number of draw matches :\"))\n",
        "d_points = d_match * draws\n",
        "print(f'Total draw points of team London is {d_points} points\\n')\n",
        "\n",
        "\n",
        "loose = int(input(\"losses points per match : \"))\n",
        "l_match = int(input(\"Number of loosing matches :\"))\n",
        "l_points = l_match * loose\n",
        "print(f'Total loosing points of team London is {l_points} points\\n')\n",
        "\n",
        "total_points  = points + d_points + l_points\n",
        "print(f\"\\nTotal points of Team London is {total_points} Points\")\n"
      ]
    },
    {
      "cell_type": "markdown",
      "source": [
        "# **Measuring the Accuracy of a Disease Detection Model**"
      ],
      "metadata": {
        "id": "by4kJZg54R3J"
      }
    },
    {
      "cell_type": "markdown",
      "source": [
        "If you're not impressed with these usecases yet, understand that you're just getting started with python. Going forward as a data scientist, you'll be using what you've learned to design machine learning models that just might even save lives!!\n",
        "\n",
        "Let's say you have created a machine learning model to detect diseases in patients based on their symptoms and medical history. The model has been tested on a dataset of **100 patients**, including **30 with diabetes**, **45 with heart disease, and 25 with cancer**. The model's performance was evaluated in three rounds. In the first round, the model correctly detected **diabetes i**n 25 out of the 30 patients with the disease. In the second round, the model correctly detected heart disease in 35 out of the 45 patients with the disease. In the final round, the model correctly detected cancer in 20 out of the 25 patients with the disease.\n",
        "\n",
        "The model's accuracy is defined as the percentage of correctly detected cases out of the total number of patient\n",
        "\n",
        "Assess how accurate your model is across these 3 diseases."
      ],
      "metadata": {
        "id": "hG0raQaX4Xpa"
      }
    },
    {
      "cell_type": "code",
      "source": [
        "# Store the number of heart disease patients\n",
        "heart_d = 45\n",
        "\n",
        "# Store the number of diabetes patients\n",
        "diabetes = 30\n",
        "\n",
        "# Store the number of cancer patients\n",
        "cancer = 25\n",
        "\n",
        "\n",
        "# Store the number of your correct guesses of heart disease patients\n",
        "correct_heartd_guess = 35\n",
        "\n",
        "\n",
        "# Store the number of your correct guesses of diabetes patients\n",
        "correct_diabetes_guess = 25\n",
        "\n",
        "\n",
        "# Store the number of your correct guesses of cancer patients\n",
        "correct_caancer_guess = 20"
      ],
      "metadata": {
        "id": "-aj48r924cyG"
      },
      "execution_count": null,
      "outputs": []
    },
    {
      "cell_type": "code",
      "source": [
        "# Print the heart disease detection accuracy\n",
        "\n",
        "heart_accuracy = (correct_heartd_guess / heart_d) * 100\n",
        "print(f'Heart disease accuracy is {heart_accuracy} %')"
      ],
      "metadata": {
        "colab": {
          "base_uri": "https://localhost:8080/"
        },
        "id": "0O0j6wai6LBU",
        "outputId": "d320adf6-c6fc-4f46-8dc9-1af4b08491e7"
      },
      "execution_count": null,
      "outputs": [
        {
          "output_type": "stream",
          "name": "stdout",
          "text": [
            "Heart disease accuracy is 77.77777777777779 %\n"
          ]
        }
      ]
    },
    {
      "cell_type": "code",
      "source": [
        "# Print the diabetes detection accuracy\n",
        "\n",
        "diabetes_accuracy = (correct_diabetes_guess / diabetes) *100\n",
        "print(f'Diabetes detection accuracy is {diabetes_accuracy} %')"
      ],
      "metadata": {
        "colab": {
          "base_uri": "https://localhost:8080/"
        },
        "id": "3nKFL1YE8AB4",
        "outputId": "7bd0a30b-6aa3-4e16-cec3-8dff07642dad"
      },
      "execution_count": null,
      "outputs": [
        {
          "output_type": "stream",
          "name": "stdout",
          "text": [
            "Diabetes detection accuracy is 83.33333333333334 %\n"
          ]
        }
      ]
    },
    {
      "cell_type": "code",
      "source": [
        "# Print the cancer detection accuracy\n",
        "\n",
        "cancer_accuracy = (correct_caancer_guess / cancer)* 100\n",
        "print(f'Cancer detection accuracy is {cancer_accuracy} %')"
      ],
      "metadata": {
        "colab": {
          "base_uri": "https://localhost:8080/"
        },
        "id": "3Lyu1ESM8ZVn",
        "outputId": "40bd1ebe-6431-4e9e-a79d-de3aabf0cc63"
      },
      "execution_count": null,
      "outputs": [
        {
          "output_type": "stream",
          "name": "stdout",
          "text": [
            "Cancer detection accuracy is 80.0 %\n"
          ]
        }
      ]
    },
    {
      "cell_type": "code",
      "source": [
        "# Print the overall accuracy of your model\n",
        "\n",
        "overall_accuracy = (heart_accuracy + diabetes_accuracy + cancer_accuracy) / 100\n",
        "print(f'Overall model accuracy is {overall_accuracy} %')\n"
      ],
      "metadata": {
        "colab": {
          "base_uri": "https://localhost:8080/"
        },
        "id": "2AsZj7q38oW4",
        "outputId": "1804deff-e821-45b8-f730-dae334c44a88"
      },
      "execution_count": null,
      "outputs": [
        {
          "output_type": "stream",
          "name": "stdout",
          "text": [
            "Overall model accuracy is 2.4111111111111114 %\n"
          ]
        }
      ]
    },
    {
      "cell_type": "markdown",
      "source": [
        "# **Solving Algebra the Cool Way 😎**"
      ],
      "metadata": {
        "id": "un4Uf3KDDRFW"
      }
    },
    {
      "cell_type": "markdown",
      "source": [
        "# **f(x)=x^2+3x-4**\n",
        "\n",
        "Find the value of f(x) at x =3 , x=-2, and x=4"
      ],
      "metadata": {
        "id": "5I8zXfC_DSt3"
      }
    },
    {
      "cell_type": "code",
      "source": [
        "# Calculate the value of the function f(x) at x = 3\n",
        "\n",
        "def algebra(x):\n",
        "  return [(x ** 2) + (3 * x) - 4]\n",
        "\n",
        "algebra(3)"
      ],
      "metadata": {
        "colab": {
          "base_uri": "https://localhost:8080/"
        },
        "id": "g6PKgCv2EGjP",
        "outputId": "e876b8bd-937c-4f3c-f145-0c919c56d93f"
      },
      "execution_count": null,
      "outputs": [
        {
          "output_type": "execute_result",
          "data": {
            "text/plain": [
              "[14]"
            ]
          },
          "metadata": {},
          "execution_count": 22
        }
      ]
    },
    {
      "cell_type": "code",
      "source": [
        "# Calculate the value of the function f(x) at x = -2\n",
        "\n",
        "def algebra(x):\n",
        "  return [(x ** 2) + (3 * x) - 4]\n",
        "\n",
        "algebra(-2)\n",
        "\n"
      ],
      "metadata": {
        "colab": {
          "base_uri": "https://localhost:8080/"
        },
        "id": "wtG6oRYIFT9W",
        "outputId": "4dcabc47-0d32-4fd7-c704-24e68072331e"
      },
      "execution_count": null,
      "outputs": [
        {
          "output_type": "execute_result",
          "data": {
            "text/plain": [
              "[-6]"
            ]
          },
          "metadata": {},
          "execution_count": 23
        }
      ]
    },
    {
      "cell_type": "code",
      "source": [
        "# Calculate the value of the function f(x) at x = 4\n",
        "\n",
        "def algebra(x):\n",
        "  return [(x ** 2) + (3 * x) - 4]\n",
        "\n",
        "algebra(4)"
      ],
      "metadata": {
        "colab": {
          "base_uri": "https://localhost:8080/"
        },
        "id": "SAAH1bWkFi8W",
        "outputId": "25d3ddc6-5dfe-40cf-e601-090a297fc18f"
      },
      "execution_count": null,
      "outputs": [
        {
          "output_type": "execute_result",
          "data": {
            "text/plain": [
              "[24]"
            ]
          },
          "metadata": {},
          "execution_count": 25
        }
      ]
    },
    {
      "cell_type": "code",
      "source": [
        "#Check if func_evaluated_at_3 >= func_evaluated_at_minus2\n",
        "\n",
        "func_evaluated_at_3 = 14\n",
        "func_evaluated_at_minus2 = -6\n",
        "func_evaluated_at_4 = 24\n",
        "\n",
        "if func_evaluated_at_3 >= func_evaluated_at_minus2:\n",
        "  print(True)\n",
        "else:\n",
        "  print(False)"
      ],
      "metadata": {
        "colab": {
          "base_uri": "https://localhost:8080/"
        },
        "id": "tufVs3uxF0ay",
        "outputId": "3d46ac4d-94b9-4a77-82da-934b1ea7b93a"
      },
      "execution_count": null,
      "outputs": [
        {
          "output_type": "stream",
          "name": "stdout",
          "text": [
            "True\n"
          ]
        }
      ]
    },
    {
      "cell_type": "code",
      "source": [
        "#Check if value of f(x) at 3,-2 or 4 is equal to 0 or not\n",
        "\n",
        "if (func_evaluated_at_3 == 0) or (func_evaluated_at_minus2==0) or (func_evaluated_at_4 ==0):\n",
        "  print(True)\n",
        "else:\n",
        "  print(\"False\")"
      ],
      "metadata": {
        "colab": {
          "base_uri": "https://localhost:8080/"
        },
        "id": "PhlPXQYJHLa3",
        "outputId": "f2eef4d6-65f3-4c00-a09c-e015e65a739c"
      },
      "execution_count": null,
      "outputs": [
        {
          "output_type": "stream",
          "name": "stdout",
          "text": [
            "False\n"
          ]
        }
      ]
    },
    {
      "cell_type": "markdown",
      "source": [
        "# **Finding total E's in the Bookshelves**"
      ],
      "metadata": {
        "id": "eLtqk12fJZ1N"
      }
    },
    {
      "cell_type": "markdown",
      "source": [
        "In your pursuit of expanding your knowledge of Python, you come across a bookstore in search of books on the subject.\n",
        "\n",
        "There, you meet a salesperson who is also a Python enthusiast!!\n",
        "\n",
        "The salesperson presents you with a challenge - they have a list of five books related to Python and if you can write a program that finds the count of letter 'e', the store will give you a free book of your choice. 😀\n",
        "\n",
        "Are you ready to accept the challenge? 💪"
      ],
      "metadata": {
        "id": "MlOl8HmDJc0C"
      }
    },
    {
      "cell_type": "code",
      "source": [
        "# Here's the list of books\n",
        "\n",
        "books = \"Python for Everyone, Learn Python the Hard Way, Python Crash Course , Starting Out with Python, Automate the Boring Stuff with Python\"\n"
      ],
      "metadata": {
        "id": "v7_eLsJOJZlU"
      },
      "execution_count": null,
      "outputs": []
    },
    {
      "cell_type": "code",
      "source": [
        "# Store the count of books containing E/e in the title. Note this will be a case insensitive search\n",
        "sum = 0\n",
        "for i in books:\n",
        "  if i == 'e' or i =='E':\n",
        "    sum = sum + 1\n",
        "\n",
        "\n",
        "print(F'Count of books containing E/e in the title is {sum}')\n"
      ],
      "metadata": {
        "colab": {
          "base_uri": "https://localhost:8080/"
        },
        "id": "NktZ3j0dJrc2",
        "outputId": "297d566c-5f4a-4345-e4b9-65b823f26bcc"
      },
      "execution_count": null,
      "outputs": [
        {
          "output_type": "stream",
          "name": "stdout",
          "text": [
            "Count of books containing E/e in the title is 8\n"
          ]
        }
      ]
    },
    {
      "cell_type": "markdown",
      "source": [
        "# **Unleashing the Power of Mean in Exam Analysis**\n",
        "\n",
        "When analyzing exam scores, teachers have the power to unlock valuable insights into their students' performance. By using the mean and median, they can get a clear picture of how the class is doing as a whole and identify areas where improvement is needed.\n",
        "\n",
        "The mean score is like a report card for the entire class, showing the average of all exam scores. It gives a good general idea of how the class is doing but can be influenced by a few students with extremely high or low scores.\n",
        "\n",
        "By analysing the mean, teachers can get a complete picture of the class performance and make informed decisions to improve the learning experience for their students. So go ahead and use these powerful tools to take your students' exam scores to the next level! 💪"
      ],
      "metadata": {
        "id": "bbrOgyoiubFR"
      }
    },
    {
      "cell_type": "code",
      "source": [
        "# List of student marks\n",
        "\n",
        "marks = [67,87,75,46,89,97,68,98,87,88]"
      ],
      "metadata": {
        "id": "aT7rVQsOui4a"
      },
      "execution_count": null,
      "outputs": []
    },
    {
      "cell_type": "code",
      "source": [
        "# Calculate the mean of the marks. Use sum() and len() functions\n",
        "length = len(marks)\n",
        "sum = 0\n",
        "for i in marks:\n",
        "  sum = sum + i\n",
        "  mean = sum / length\n",
        "print(f'means of the marks is {mean}')\n"
      ],
      "metadata": {
        "colab": {
          "base_uri": "https://localhost:8080/"
        },
        "id": "djMjzd1rMKw6",
        "outputId": "9448d199-5cf1-4841-b97e-0e8220dc064b"
      },
      "execution_count": null,
      "outputs": [
        {
          "output_type": "stream",
          "name": "stdout",
          "text": [
            "means of the marks is 80.2\n"
          ]
        }
      ]
    },
    {
      "cell_type": "markdown",
      "source": [
        "# **John's Fruit Stand Sales Mix-up**\n",
        "\n",
        "Let's look at this scenario:\n",
        "\n",
        "Jim owns a quaint little fruit stand that sells mangoes, bananas, apples, and pineapples. One day, with Jim being tied up, he tasked his son John to manage the shop for a day. Being new to the game, John recorded the sales data in an unconventional way. He wrote down the name of each fruit as many times as it was sold, creating a list like this:\n",
        "\n",
        "['Mango','Mango','Mango','Pineapple','Pineapple','Pineapple','Apple','Mango','Banana','Apple','Banana','Apple','Pineapple','Apple','Apple','Pineapple','Pineapple'] 🤦\n",
        "\n",
        "But, this method is not very efficient or easy to read.\n",
        "\n",
        "Forunately you were there at the shop to grab some apples yourselves, and you saw what John was doing.\n",
        "\n",
        "You can help him out to structure the data by using dictionaries. How?"
      ],
      "metadata": {
        "id": "UNbjeqZDzCRr"
      }
    },
    {
      "cell_type": "code",
      "source": [
        "#Here's John's list:\n",
        "\n",
        "fruit_list=['Mango','Mango','Mango','Pineapple','Pineapple','Pineapple','Apple','Mango','Banana','Apple','Banana','Apple','Pineapple','Apple','Apple','Pineapple','Pineapple']\n",
        "\n",
        "freq = {}\n",
        "for i in fruit_list:\n",
        "  if i in freq:\n",
        "    freq[i] +=1\n",
        "\n",
        "  else:\n",
        "    freq[i] = 1\n",
        "\n",
        "print(f'fruit_dict : {freq}')"
      ],
      "metadata": {
        "colab": {
          "base_uri": "https://localhost:8080/"
        },
        "id": "iwn-5Yn6zKNW",
        "outputId": "07685176-89af-48ef-c1a4-3b4ada84c0a9"
      },
      "execution_count": null,
      "outputs": [
        {
          "output_type": "stream",
          "name": "stdout",
          "text": [
            "fruit_dict : {'Mango': 4, 'Pineapple': 6, 'Apple': 5, 'Banana': 2}\n"
          ]
        }
      ]
    },
    {
      "cell_type": "markdown",
      "source": [
        "# **Indexing & Slicing**\n",
        "\n",
        "**Imagine that you are a superhero movie buff and you're trying to create a list of the most iconic Marvel characters. You have compiled a list of some of the most popular characters, but you want to narrow it down to the top 6.**\n",
        "\n",
        "Here's your list of characters:\n",
        "\n",
        "marvel_words = ['Avengers', 'X-Men', 'Spider-Man', 'Iron Man', 'Hulk', 'Thor', 'Black Widow', 'Captain America', 'Wolverine', 'Doctor Strange', 'Namor']"
      ],
      "metadata": {
        "id": "jllPIgU21Kbz"
      }
    },
    {
      "cell_type": "code",
      "source": [
        "# Here's your list of characters:\n",
        "\n",
        "marvel_words = ['Avengers', 'X-Men', 'Spider-Man', 'Iron Man', 'Hulk', 'Thor', 'Black Widow', 'Captain America', 'Wolverine', 'Doctor Strange', 'Namor']"
      ],
      "metadata": {
        "id": "I6-WfGP91KMa"
      },
      "execution_count": null,
      "outputs": []
    },
    {
      "cell_type": "markdown",
      "source": [
        "You want to narrow down the list to the last 6 characters in the list. These characters are:\n",
        "\n",
        "\n",
        "Namor\n",
        "\n",
        "Doctor Strange\n",
        "\n",
        "Wolverine\n",
        "\n",
        "Captain America\n",
        "\n",
        "Black Widow\n",
        "\n",
        "Thor"
      ],
      "metadata": {
        "id": "moI3AbzW1wq4"
      }
    },
    {
      "cell_type": "code",
      "source": [
        "length = len(marvel_words)\n",
        "print(length)\n",
        "\n",
        "result = marvel_words[::-1]\n",
        "# print(result)\n",
        "print(result[:6])\n",
        "\n",
        "\n"
      ],
      "metadata": {
        "colab": {
          "base_uri": "https://localhost:8080/"
        },
        "id": "hCgcLf1d14qu",
        "outputId": "d30914ba-1c25-4772-9c58-bde0c73c9b84"
      },
      "execution_count": null,
      "outputs": [
        {
          "output_type": "stream",
          "name": "stdout",
          "text": [
            "11\n",
            "['Namor', 'Doctor Strange', 'Wolverine', 'Captain America', 'Black Widow', 'Thor']\n"
          ]
        }
      ]
    },
    {
      "cell_type": "markdown",
      "source": [
        "# **Create two teams of superheroes based on their index position: one team should consist of all the characters located at even index positions, while the other team should consist of all the characters located at odd index positions.**"
      ],
      "metadata": {
        "id": "JSVjwU2N7hcJ"
      }
    },
    {
      "cell_type": "code",
      "source": [
        "marvel_words = ['Avengers', 'X-Men', 'Spider-Man', 'Iron Man', 'Hulk', 'Thor', 'Black Widow', 'Captain America', 'Wolverine', 'Doctor Strange', 'Namor']"
      ],
      "metadata": {
        "id": "y2SnRmJz7uxU"
      },
      "execution_count": null,
      "outputs": []
    },
    {
      "cell_type": "code",
      "source": [
        "marvel_team1 = marvel_words[0::2]\n",
        "print(\"even team = \", marvel_team1)\n",
        "\n",
        "marvel_team2 = marvel_words[1::2]\n",
        "print(\"odd team = \" ,marvel_team2)"
      ],
      "metadata": {
        "colab": {
          "base_uri": "https://localhost:8080/"
        },
        "id": "BwazlMGf9PSO",
        "outputId": "4410e6c5-560a-49f6-a6bb-1d5c906a1115"
      },
      "execution_count": null,
      "outputs": [
        {
          "output_type": "stream",
          "name": "stdout",
          "text": [
            "even team =  ['Avengers', 'Spider-Man', 'Hulk', 'Black Widow', 'Wolverine', 'Namor']\n",
            "odd team =  ['X-Men', 'Iron Man', 'Thor', 'Captain America', 'Doctor Strange']\n"
          ]
        }
      ]
    },
    {
      "cell_type": "markdown",
      "source": [
        "# **Store the word 'Spider-Man' in a new variable, and slice the word 'Spider' from it.**"
      ],
      "metadata": {
        "id": "kL7BmL3r_d0K"
      }
    },
    {
      "cell_type": "code",
      "source": [
        "new = marvel_words[2]\n",
        "print(new)\n",
        "result = new.split('-')\n",
        "print(result[0])"
      ],
      "metadata": {
        "colab": {
          "base_uri": "https://localhost:8080/"
        },
        "id": "BmgULOzN_iKa",
        "outputId": "f2b09692-f40f-4246-ab22-7c475398be59"
      },
      "execution_count": null,
      "outputs": [
        {
          "output_type": "stream",
          "name": "stdout",
          "text": [
            "Spider-Man\n",
            "Spider\n"
          ]
        }
      ]
    },
    {
      "cell_type": "markdown",
      "source": [
        " **Store the word 'Iron-Man' in a variable and use reverse indexing to reverse it.**"
      ],
      "metadata": {
        "id": "PbZHb2cMB4Q_"
      }
    },
    {
      "cell_type": "code",
      "source": [
        "new = marvel_words[3]\n",
        "print(new)\n",
        "rev = new[::-1]\n",
        "print(rev)"
      ],
      "metadata": {
        "colab": {
          "base_uri": "https://localhost:8080/"
        },
        "id": "d7p3aP3TB76d",
        "outputId": "29316b35-7e6e-47a4-82d6-be5526b75e31"
      },
      "execution_count": null,
      "outputs": [
        {
          "output_type": "stream",
          "name": "stdout",
          "text": [
            "Iron Man\n",
            "naM norI\n"
          ]
        }
      ]
    },
    {
      "cell_type": "markdown",
      "source": [
        "# **Operators in Data Types**"
      ],
      "metadata": {
        "id": "GxgVuZTuEp1S"
      }
    },
    {
      "cell_type": "markdown",
      "source": [
        "🎉 Let's do some math!\n",
        "\n",
        "📐 First up, let's calculate the area of a square with sides that measure 5 cm.\n",
        "🤔 How much space does this shape occupy?\n",
        "\n",
        "🔍 Next, let's find the volume of a cube with sides that measure 12 cm.\n",
        "📏 How much room does this shape take up?\n",
        "\n",
        "🔢 Lastly, we'll find the quotient and remainder when we divide 10 by 4. 🧐 How many times does 4 fit into 10? What's left over?"
      ],
      "metadata": {
        "id": "XOcIm1xJErNn"
      }
    },
    {
      "cell_type": "code",
      "source": [
        "#  area of a square\n",
        "\n",
        "side = 5\n",
        "area = (side**2)\n",
        "print(f'space occupied by the square is {area}cm square')"
      ],
      "metadata": {
        "colab": {
          "base_uri": "https://localhost:8080/"
        },
        "id": "cZem3Ki8FKgj",
        "outputId": "6bed245d-0cdd-4ccc-d4b0-0fd74c892725"
      },
      "execution_count": null,
      "outputs": [
        {
          "output_type": "stream",
          "name": "stdout",
          "text": [
            "space occupied by the square is 25cm square\n"
          ]
        }
      ]
    },
    {
      "cell_type": "code",
      "source": [
        "#  volume of a cube\n",
        "side = 12\n",
        "volume = (side**3)\n",
        "print(f'room occupied by the cube of side 12 cm is {volume}cm cube')"
      ],
      "metadata": {
        "colab": {
          "base_uri": "https://localhost:8080/"
        },
        "id": "Bc-ukux4FEB3",
        "outputId": "4d858c0e-7336-4462-870a-75fa390f0771"
      },
      "execution_count": null,
      "outputs": [
        {
          "output_type": "stream",
          "name": "stdout",
          "text": [
            "room occupied by the cube of side 12 cm is 1728cm cube\n"
          ]
        }
      ]
    },
    {
      "cell_type": "code",
      "source": [
        "# find the quotient and remainder when we divide 10 by 4.\n",
        "result = 10 % 4\n",
        "print(f'remainder is {result}')\n",
        "\n",
        "result = 10//4\n",
        "print(f'Quotient is {result}')\n",
        "\n"
      ],
      "metadata": {
        "colab": {
          "base_uri": "https://localhost:8080/"
        },
        "id": "oQ1y5KdtE7YH",
        "outputId": "b4fe947a-b0aa-47dd-9fc4-fd15c5bf98d0"
      },
      "execution_count": null,
      "outputs": [
        {
          "output_type": "stream",
          "name": "stdout",
          "text": [
            "remainder is 2\n",
            "Quotient is 2\n"
          ]
        }
      ]
    },
    {
      "cell_type": "markdown",
      "source": [
        "# **Let's practice some comparison operators! Here's a problem for you to solve:**"
      ],
      "metadata": {
        "id": "u1VxgRA5ROhw"
      }
    },
    {
      "cell_type": "markdown",
      "source": [
        "🍎 The first basket contains 12 apples, and the second basket contains 8 apples. Use comparison operators to answer the following questions:\n",
        "\n",
        "Is the number of apples in the first basket greater than the number of apples in the second basket?\n",
        "\n",
        "Is the number of apples in the second basket less than or equal to the number of apples in the first basket?\n",
        "\n",
        "Is the number of apples in the first basket equal to the number of apples in the second basket?\n",
        "\n",
        "Is the number of apples in the second basket not equal to the number of apples in the first basket?\n",
        "\n",
        "Use comparison operators (i.e. >, >=, <, <=, ==, !=) in your code to answer each question. Good luck! 🍎🍏"
      ],
      "metadata": {
        "id": "1p5QiYmSRRF3"
      }
    },
    {
      "cell_type": "code",
      "source": [
        "# Is the number of apples in the first basket greater than the number of apples in the second basket?\n",
        "\n",
        "basket1 = 12\n",
        "basket2 = 8\n",
        "\n",
        "if basket1 > basket2:\n",
        "  print('number of apples in first basket is greater')\n",
        "else:\n",
        "  print(\"number of apples in first basket is lesser\")"
      ],
      "metadata": {
        "colab": {
          "base_uri": "https://localhost:8080/"
        },
        "id": "LqUNH7caRVtC",
        "outputId": "30ceaa80-dbb4-4dc5-eee6-701167e9a6eb"
      },
      "execution_count": null,
      "outputs": [
        {
          "output_type": "stream",
          "name": "stdout",
          "text": [
            "number of apples in first basket is greater\n"
          ]
        }
      ]
    },
    {
      "cell_type": "code",
      "source": [
        "# Is the number of apples in the second basket less than or equal to the number of apples in the first basket?\n",
        "\n",
        "basket1 = 12\n",
        "basket2 = 8\n",
        "\n",
        "if basket2 <= basket1:\n",
        "  print(\"True\")\n",
        "else:\n",
        "  print(\"False\")\n",
        "\n"
      ],
      "metadata": {
        "colab": {
          "base_uri": "https://localhost:8080/"
        },
        "id": "7PB52WrBTLJE",
        "outputId": "b94afc25-0ab9-473f-d287-03b3386dae2c"
      },
      "execution_count": null,
      "outputs": [
        {
          "output_type": "stream",
          "name": "stdout",
          "text": [
            "True\n"
          ]
        }
      ]
    },
    {
      "cell_type": "code",
      "source": [
        "# Is the number of apples in the first basket equal to the number of apples in the second basket?\n",
        "\n",
        "\n",
        "basket1 = 12\n",
        "basket2 = 8\n",
        "\n",
        "if basket1 == basket2:\n",
        "  print('True')\n",
        "else:\n",
        "  print(\"False\")\n",
        "\n"
      ],
      "metadata": {
        "colab": {
          "base_uri": "https://localhost:8080/"
        },
        "id": "L4x4Pb6dTtxN",
        "outputId": "b15d4f6b-6d70-473f-f121-ced6443cd3a5"
      },
      "execution_count": null,
      "outputs": [
        {
          "output_type": "stream",
          "name": "stdout",
          "text": [
            "False\n"
          ]
        }
      ]
    },
    {
      "cell_type": "code",
      "source": [
        "#  the number of apples in the second basket not equal to the number of apples in the first basket?\n",
        "\n",
        "basket1 = 12\n",
        "basket2 = 8\n",
        "\n",
        "if basket2 != basket1:\n",
        "  print('True')\n",
        "else:\n",
        "  print(\"False\")"
      ],
      "metadata": {
        "colab": {
          "base_uri": "https://localhost:8080/"
        },
        "id": "8oZfmWIFUApj",
        "outputId": "235f9781-d503-477c-9dec-ae98f4a54512"
      },
      "execution_count": null,
      "outputs": [
        {
          "output_type": "stream",
          "name": "stdout",
          "text": [
            "True\n"
          ]
        }
      ]
    },
    {
      "cell_type": "markdown",
      "source": [
        "# 🌴 **Are you ready for your trip to Goa? 🌊 You've got two bags with you, and you need to make sure they're light enough to board the flight. Let's use some logical operators to find out if you can make it on time!**"
      ],
      "metadata": {
        "id": "tj1huo-GUZZo"
      }
    },
    {
      "cell_type": "markdown",
      "source": [
        "🧳 One of your bags weighs 15 kg, while the other one weighs only 5 kg. 💪 You know you can pack a lot more in the heavier bag, but you have to be careful not to go over the weight limit.\n",
        "\n",
        "👮‍♀️ The airline has a strict policy that both of your bags must weigh less than 13 kg each. Can you make it on the flight? Let's use logical operators to find out!"
      ],
      "metadata": {
        "id": "xAdEDHPbUcX1"
      }
    },
    {
      "cell_type": "code",
      "source": [
        "# Define the weight of your bags\n",
        "bag1_weight = 15\n",
        "bag2_weight = 5\n",
        "\n",
        "if (bag1_weight <= 13) and (bag2_weight <= 13):\n",
        "  print(\"Enjoy your trip!\")\n",
        "\n",
        "else:\n",
        "  print(\"Sorry, You can not go through!\")"
      ],
      "metadata": {
        "colab": {
          "base_uri": "https://localhost:8080/"
        },
        "id": "9WqMo20xVtOX",
        "outputId": "bdf7502a-763e-4250-efea-148f1fcc3c4a"
      },
      "execution_count": null,
      "outputs": [
        {
          "output_type": "stream",
          "name": "stdout",
          "text": [
            "Sorry, You can not go through!\n"
          ]
        }
      ]
    },
    {
      "cell_type": "markdown",
      "source": [
        "🧳 Uh oh, it looks like we have a problem with our bags! But don't worry, the crew has offered a solution. 😊\n",
        "\n",
        "👨‍✈️ They've said that if at least one of our bags weighs less than 6 kg, we can still board the flight this time. 🛫\n",
        "\n",
        "🤔 Are we ready for the trip or not? Let's use some logical operators to find out!"
      ],
      "metadata": {
        "id": "NPnKFQKfXLB5"
      }
    },
    {
      "cell_type": "code",
      "source": [
        "# Define the weight of your bags\n",
        "bag1_weight = 15\n",
        "bag2_weight = 5\n",
        "\n",
        "if (bag1_weight <= 6) or (bag2_weight <= 6):\n",
        "  print(\"Enjoy your trip!\")\n",
        "\n",
        "else:\n",
        "  print(\"Sorry, You can not go through!\")"
      ],
      "metadata": {
        "colab": {
          "base_uri": "https://localhost:8080/"
        },
        "id": "d6zhvjv3XKx0",
        "outputId": "9aa03783-f476-4402-bebe-0961ff9058b7"
      },
      "execution_count": null,
      "outputs": [
        {
          "output_type": "stream",
          "name": "stdout",
          "text": [
            "Enjoy your trip!\n"
          ]
        }
      ]
    },
    {
      "cell_type": "markdown",
      "source": [
        "🤔 Did you notice how we made a decision on which print statement to use based on the result of our logical operators? 🤔\n",
        "\n",
        "🚀 Later on, we're going to learn how to do this in a single step, making it even easier for you. So stay curious 😎"
      ],
      "metadata": {
        "id": "2arEF7KKYUrz"
      }
    },
    {
      "cell_type": "markdown",
      "source": [
        "# 📚 **Imagine that you're a book lover with a collection of lot of books**. 🤓"
      ],
      "metadata": {
        "id": "IIbb7WWqYVu3"
      }
    },
    {
      "cell_type": "markdown",
      "source": [
        "🔎 You need to find out how many of your books contain the word \"Python\" in them. 🐍\n"
      ],
      "metadata": {
        "id": "a0hkn1OcYZTJ"
      }
    },
    {
      "cell_type": "code",
      "source": [
        "books = [\n",
        "    \"Python for Data Science Handbook by Jake VanderPlas\",\n",
        "    \"The Pragmatic Programmer by Andrew Hunt and David Thomas\",\n",
        "    \"Python Machine Learning by Sebastian Raschka\",\n",
        "    \"The Alchemist by Paulo Coelho\",\n",
        "]"
      ],
      "metadata": {
        "id": "IgeMwDb-Y1ZT"
      },
      "execution_count": null,
      "outputs": []
    },
    {
      "cell_type": "code",
      "source": [
        "count = 0\n",
        "for i in books:\n",
        "  print(i)\n",
        "\n",
        "  if \"Python\" in i:\n",
        "    count = count + 1\n",
        "print(f\"\\nbooks contain the word 'Python' in them is {count}\")"
      ],
      "metadata": {
        "colab": {
          "base_uri": "https://localhost:8080/"
        },
        "id": "h0YixOdGbvqx",
        "outputId": "f39f446a-c8ee-4c98-ce04-d282184efbd3"
      },
      "execution_count": null,
      "outputs": [
        {
          "output_type": "stream",
          "name": "stdout",
          "text": [
            "Python for Data Science Handbook by Jake VanderPlas\n",
            "The Pragmatic Programmer by Andrew Hunt and David Thomas\n",
            "Python Machine Learning by Sebastian Raschka\n",
            "The Alchemist by Paulo Coelho\n",
            "\n",
            "books contain the word 'Python' in them is 2\n"
          ]
        }
      ]
    },
    {
      "cell_type": "markdown",
      "source": [
        "# **In-Built Functions & Methods**"
      ],
      "metadata": {
        "id": "-GmL5_QoeMO6"
      }
    },
    {
      "cell_type": "markdown",
      "source": [
        "**Here is a string for you to work with:**"
      ],
      "metadata": {
        "id": "bpfQ5gcweN35"
      }
    },
    {
      "cell_type": "code",
      "source": [
        "# Here is the statement.\n",
        "\n",
        "statement = \"anas eagerly recommended 'the shawshank redemption' to his friends. He described the movie as a captivating and emotional story of hope and friendship. His friends decided to watch it together the following weekend.\""
      ],
      "metadata": {
        "id": "hWlb_19BeWZ7"
      },
      "execution_count": null,
      "outputs": []
    },
    {
      "cell_type": "code",
      "source": [
        "print(statement)"
      ],
      "metadata": {
        "colab": {
          "base_uri": "https://localhost:8080/"
        },
        "id": "441wnsyae0or",
        "outputId": "11e0ad39-64fc-4541-9656-f44ce387bfb5"
      },
      "execution_count": null,
      "outputs": [
        {
          "output_type": "stream",
          "name": "stdout",
          "text": [
            "anas eagerly recommended 'the shawshank redemption' to his friends. He described the movie as a captivating and emotional story of hope and friendship. His friends decided to watch it together the following weekend.\n"
          ]
        }
      ]
    },
    {
      "cell_type": "markdown",
      "source": [
        "Create a list containing the three sentences in the statement. Hint: Use split() method."
      ],
      "metadata": {
        "id": "wfbeaOj-fCiL"
      }
    },
    {
      "cell_type": "code",
      "source": [
        "result_str = statement.split(\".\")\n",
        "print(result_str)"
      ],
      "metadata": {
        "colab": {
          "base_uri": "https://localhost:8080/"
        },
        "id": "CJAKvBaafDor",
        "outputId": "148f3615-baad-41db-f32d-c4894f6a725e"
      },
      "execution_count": null,
      "outputs": [
        {
          "output_type": "stream",
          "name": "stdout",
          "text": [
            "[\"anas eagerly recommended 'the shawshank redemption' to his friends\", ' He described the movie as a captivating and emotional story of hope and friendship', ' His friends decided to watch it together the following weekend', '']\n"
          ]
        }
      ]
    },
    {
      "cell_type": "markdown",
      "source": [
        "The name 'anas' is spelled wrong. Replace it with 'Anas'."
      ],
      "metadata": {
        "id": "6zClmokTfoZ-"
      }
    },
    {
      "cell_type": "code",
      "source": [
        "result = statement.replace('anas', 'Anas')\n",
        "print(result)"
      ],
      "metadata": {
        "colab": {
          "base_uri": "https://localhost:8080/"
        },
        "id": "AUK1JZwofpfy",
        "outputId": "cdb5f024-ef33-46c6-eba4-dff038a5ef57"
      },
      "execution_count": null,
      "outputs": [
        {
          "output_type": "stream",
          "name": "stdout",
          "text": [
            "Anas eagerly recommended 'the shawshank redemption' to his friends. He described the movie as a captivating and emotional story of hope and friendship. His friends decided to watch it together the following weekend.\n"
          ]
        }
      ]
    },
    {
      "cell_type": "markdown",
      "source": [
        "The title of the book is not written in the correct cases as well. Make corrections there."
      ],
      "metadata": {
        "id": "MaUcBn56gcTy"
      }
    },
    {
      "cell_type": "code",
      "source": [
        "result = statement.replace('the shawshank redemption', 'The Shawshank Redemption')\n",
        "print(result)"
      ],
      "metadata": {
        "colab": {
          "base_uri": "https://localhost:8080/"
        },
        "id": "J2fp8nmJgda_",
        "outputId": "79a00b6c-e4ad-4556-adcc-9b838529a455"
      },
      "execution_count": null,
      "outputs": [
        {
          "output_type": "stream",
          "name": "stdout",
          "text": [
            "anas eagerly recommended 'The Shawshank Redemption' to his friends. He described the movie as a captivating and emotional story of hope and friendship. His friends decided to watch it together the following weekend.\n"
          ]
        }
      ]
    },
    {
      "cell_type": "markdown",
      "source": [
        "You believe \"The Shawshank Redemption\" would be bit too gloomy for the lot. Take user input of which movie to recommend and replace \"The Shawshank Redemption\" from the statement with the new recommendation."
      ],
      "metadata": {
        "id": "7mIISvoPjU63"
      }
    },
    {
      "cell_type": "code",
      "source": [
        "new_movie = input(\"Which movie wold you recommend?\")\n",
        "new_statement = statement.replace('the shawshank redemption', new_movie)\n",
        "print(new_statement)"
      ],
      "metadata": {
        "colab": {
          "base_uri": "https://localhost:8080/"
        },
        "id": "fPphSKNtfn7Q",
        "outputId": "f4730ce5-71b6-4afd-9615-4938997d5278"
      },
      "execution_count": null,
      "outputs": [
        {
          "output_type": "stream",
          "name": "stdout",
          "text": [
            "Which movie wold you recommend?Hangover\n",
            "anas eagerly recommended 'Hangover' to his friends. He described the movie as a captivating and emotional story of hope and friendship. His friends decided to watch it together the following weekend.\n"
          ]
        }
      ]
    },
    {
      "cell_type": "markdown",
      "source": [
        "# 🎥 **Suppose you have a collection of your favorite movies 🍿🎞️ and you want to keep track of them using a Python list 📜. You start with an empty list [] and keep adding new movies 🆕 to it. You also want to be able to remove movies ❌ that you have watched or no longer wish to keep in your collection. Finally, you want to be able to count 🔢 how many movies you have in your collection and reverse the order of the list 🔄.**"
      ],
      "metadata": {
        "id": "iQH2lgyYlkpu"
      }
    },
    {
      "cell_type": "code",
      "source": [
        "# Start with an empty list\n",
        "movie_collection = []\n",
        "\n",
        "movie_collection.append(\"Intersteller\")\n",
        "movie_collection.append(\"RIPD\")\n",
        "movie_collection.append(\"Jhon Shaft\")\n",
        "movie_collection.append(\"Jhon Wick\")\n",
        "movie_collection.append(\"The Bourne Identity\")\n",
        "movie_collection.append(\"The Grey Man\")\n",
        "\n",
        "print(\" My Movie Collection:\",movie_collection)"
      ],
      "metadata": {
        "colab": {
          "base_uri": "https://localhost:8080/"
        },
        "id": "ANXgsX2Dm_Ap",
        "outputId": "65694e44-a72e-42fb-fcb3-c6edd55bc23f"
      },
      "execution_count": null,
      "outputs": [
        {
          "output_type": "stream",
          "name": "stdout",
          "text": [
            " My Movie Collection: ['Intersteller', 'RIPD', 'Jhon Shaft', 'Jhon Wick', 'The Bourne Identity', 'The Grey Man']\n"
          ]
        }
      ]
    },
    {
      "cell_type": "code",
      "source": [
        "print(movie_collection.pop(1))\n",
        "print(\"After removing\", movie_collection)"
      ],
      "metadata": {
        "colab": {
          "base_uri": "https://localhost:8080/"
        },
        "id": "e8WZdqyioyKe",
        "outputId": "19af8998-8ada-4c72-bfaf-262ce90e2d7e"
      },
      "execution_count": null,
      "outputs": [
        {
          "output_type": "stream",
          "name": "stdout",
          "text": [
            "RIPD\n",
            "After removing ['Intersteller', 'Jhon Shaft', 'Jhon Wick', 'The Bourne Identity', 'The Grey Man']\n"
          ]
        }
      ]
    },
    {
      "cell_type": "code",
      "source": [
        "# Count how many movies are in the collection\n",
        "count = 0\n",
        "for i in movie_collection:\n",
        "  count += 1\n",
        "print(f'number of movies in list is {count}')\n"
      ],
      "metadata": {
        "colab": {
          "base_uri": "https://localhost:8080/"
        },
        "id": "yY6bctkpraL8",
        "outputId": "aed98947-aff0-4c14-f2fc-17be56024f5f"
      },
      "execution_count": null,
      "outputs": [
        {
          "output_type": "stream",
          "name": "stdout",
          "text": [
            "number of movies in list is 5\n"
          ]
        }
      ]
    },
    {
      "cell_type": "code",
      "source": [
        "# Reverse the order of the list using the reverse() method\n",
        "print(\" My Movie Collection:\",movie_collection)\n",
        "movie_collection.reverse()\n",
        "print(movie_collection)\n"
      ],
      "metadata": {
        "colab": {
          "base_uri": "https://localhost:8080/"
        },
        "id": "0ikdNEiNsI9v",
        "outputId": "8b1934e1-39d5-4833-9487-b819f43ea080"
      },
      "execution_count": null,
      "outputs": [
        {
          "output_type": "stream",
          "name": "stdout",
          "text": [
            " My Movie Collection: ['Intersteller', 'Jhon Shaft', 'Jhon Wick', 'The Bourne Identity', 'The Grey Man']\n",
            "['The Grey Man', 'The Bourne Identity', 'Jhon Wick', 'Jhon Shaft', 'Intersteller']\n"
          ]
        }
      ]
    },
    {
      "cell_type": "markdown",
      "source": [
        "# 👩‍🏫 **A teacher has stored the names of his students in a tuple as follows:**"
      ],
      "metadata": {
        "id": "2XagqYJN3E-n"
      }
    },
    {
      "cell_type": "markdown",
      "source": [
        "('Adam','Alice','Ben','Bilal','Bharath')\n",
        "\n",
        "👨‍🎓 Their role numbers are defined as their index number + 1.\n",
        "\n",
        "🖥️ Write a program which would take the name of the student as input and return their role number."
      ],
      "metadata": {
        "id": "rIXQstPu3Gx6"
      }
    },
    {
      "cell_type": "code",
      "source": [
        "student_tupple=('Adam','Alice','Ben','Bilal','Bharath')\n",
        "\n",
        "name = input(\"Call the name : \")\n",
        "index = student_tupple.index(name)\n",
        "print(f\"role number of {name} is: \",index + 1)"
      ],
      "metadata": {
        "colab": {
          "base_uri": "https://localhost:8080/"
        },
        "id": "MKBuBX_j3J9e",
        "outputId": "2bb22cca-a401-4d87-d102-d842cfd1dc83"
      },
      "execution_count": null,
      "outputs": [
        {
          "output_type": "stream",
          "name": "stdout",
          "text": [
            "Call the name : Ben\n",
            "role number of Ben is:  3\n"
          ]
        }
      ]
    },
    {
      "cell_type": "markdown",
      "source": [
        "# **A store 🏪 sells different types of fruits 🍎🍌🍇🍓 in baskets 🧺. The storekeeper 🧑 keeps track of the availability of each fruit type in separate sets. The storekeeper wants to know which fruits are available in both baskets, which fruits are unique to each basket, and the total number of fruits available. 🤔**"
      ],
      "metadata": {
        "id": "SFylaO6S6uiG"
      }
    },
    {
      "cell_type": "code",
      "source": [
        "# Define sets for fruits in each basket\n",
        "basket1 = {'apple', 'banana', 'grape', 'orange'}\n",
        "basket2 = {'banana', 'mango', 'pineapple', 'orange'}"
      ],
      "metadata": {
        "id": "LQVkfLT47FFP"
      },
      "execution_count": null,
      "outputs": []
    },
    {
      "cell_type": "code",
      "source": [
        "# Find the total number of fruits available\n",
        "\n",
        "lenght1 = len(basket1)\n",
        "lenght2 = len(basket2)\n",
        "total = lenght1 + lenght2\n",
        "print(\"Total number of fruits available:\", total)"
      ],
      "metadata": {
        "colab": {
          "base_uri": "https://localhost:8080/"
        },
        "id": "d8UTwPdD7l7B",
        "outputId": "a34e6388-ff1f-45ed-b7ba-ea5e0ac1d258"
      },
      "execution_count": null,
      "outputs": [
        {
          "output_type": "stream",
          "name": "stdout",
          "text": [
            "Total number of fruits available: 8\n"
          ]
        }
      ]
    },
    {
      "cell_type": "code",
      "source": [
        "# Find fruits available in both baskets\n",
        "\n",
        "for i in basket1:\n",
        "  if i in basket2:\n",
        "    print(i)"
      ],
      "metadata": {
        "colab": {
          "base_uri": "https://localhost:8080/"
        },
        "id": "N-r8Xps38qGR",
        "outputId": "18f6e741-f153-48ba-be44-62bb2b7a7705"
      },
      "execution_count": null,
      "outputs": [
        {
          "output_type": "stream",
          "name": "stdout",
          "text": [
            "orange\n",
            "banana\n"
          ]
        }
      ]
    },
    {
      "cell_type": "code",
      "source": [
        "# Find fruits available in both baskets\n",
        "\n",
        "common_fruits = basket1 & basket2\n",
        "print(common_fruits)\n"
      ],
      "metadata": {
        "colab": {
          "base_uri": "https://localhost:8080/"
        },
        "id": "T1Qd9Fv_-IDl",
        "outputId": "d52a45f1-f99b-4cc0-893b-302e55d85c69"
      },
      "execution_count": null,
      "outputs": [
        {
          "output_type": "stream",
          "name": "stdout",
          "text": [
            "{'orange', 'banana'}\n"
          ]
        }
      ]
    },
    {
      "cell_type": "markdown",
      "source": [
        "# **Statements, Indentation & Conditionals**"
      ],
      "metadata": {
        "id": "HJ3OfCiLAMaa"
      }
    },
    {
      "cell_type": "markdown",
      "source": [
        "**👉 Imagine that you are a food inspector who is responsible for inspecting the lead content of a packaged food material at a factory. If the content exceeds 5%, you should print the message \"This batch cannot be approved\".**"
      ],
      "metadata": {
        "id": "h2vTxJxEAVjV"
      }
    },
    {
      "cell_type": "code",
      "source": [
        "# Get the lead content of the packaged food material\n",
        "\n",
        "lead_content = float(input(\"Please enter the lead content of the packaged food material in percentage: \"))\n",
        "\n",
        "if lead_content > 5:\n",
        "  print(\"This batch cannot be approved\")\n",
        "else:\n",
        "  print(\"This batch is approved\")"
      ],
      "metadata": {
        "colab": {
          "base_uri": "https://localhost:8080/"
        },
        "id": "mJZ3jWEVAafc",
        "outputId": "85e8832b-46b4-474d-cd92-d3a4ea519e86"
      },
      "execution_count": null,
      "outputs": [
        {
          "output_type": "stream",
          "name": "stdout",
          "text": [
            "Please enter the lead content of the packaged food material in percentage: 4.5\n",
            "This batch is approved\n"
          ]
        }
      ]
    },
    {
      "cell_type": "markdown",
      "source": [
        "# 👉 **Imagine: You're a bouncer at a nightclub and need to check if someone is old enough to enter. The legal age for entry is 18 years. If the person is less than 18 years print \"Sorry You can not enter!\".**"
      ],
      "metadata": {
        "id": "1DT-WJSWDUuM"
      }
    },
    {
      "cell_type": "code",
      "source": [
        "age = int(input(\"enter the age\"))\n",
        "\n",
        "if age < 18:\n",
        "  print(\"Sorry You can not enter!\")\n",
        "else:\n",
        "  print(\"Have a good time in our club\")\n"
      ],
      "metadata": {
        "colab": {
          "base_uri": "https://localhost:8080/"
        },
        "id": "Z8B8lN-KDd7s",
        "outputId": "f1d5c607-90a2-487e-ec7b-853dbf625065"
      },
      "execution_count": null,
      "outputs": [
        {
          "output_type": "stream",
          "name": "stdout",
          "text": [
            "enter the age17\n",
            "Sorry You can not enter!\n"
          ]
        }
      ]
    },
    {
      "cell_type": "markdown",
      "source": [
        "# 👉 **Imagine you are a fitness instructor who needs to evaluate if a client has reached their weight loss goal. The target weight loss goal is 10 pounds. If the client has lost at least 10 pounds, you should print the message \"Congratulations, you have reached your weight loss goal!\" However, if the client has lost less than 10 pounds, you should print \"Sorry, you have not reached your weight loss goal yet. Keep up the good work!\"**"
      ],
      "metadata": {
        "id": "dzk5mVH3EVdI"
      }
    },
    {
      "cell_type": "code",
      "source": [
        "# Get the client's weight loss\n",
        "\n",
        "previous_weight = float(input(\"Enter your previous weight in pounds : \"))\n",
        "current_weight =  float(input(\"Enter your current weight in pounds : \"))\n",
        "\n",
        "lost_weight = previous_weight - current_weight\n",
        "print(abs(lost_weight))\n",
        "\n",
        "if lost_weight >= 10:\n",
        "  print(\"Congratulations, you have reached your weight loss goal!\")\n",
        "else:\n",
        "  print(\"Sorry, you have not reached your weight loss goal yet. Keep up the good work!\")"
      ],
      "metadata": {
        "colab": {
          "base_uri": "https://localhost:8080/"
        },
        "id": "cX5RkXNIEXl-",
        "outputId": "d4d63df6-1a05-41b0-99df-e7c4c6b7a7b0"
      },
      "execution_count": null,
      "outputs": [
        {
          "output_type": "stream",
          "name": "stdout",
          "text": [
            "Enter your previous weight in pounds : 50\n",
            "Enter your current weight in pounds : 45\n",
            "5.0\n",
            "Sorry, you have not reached your weight loss goal yet. Keep up the good work!\n"
          ]
        }
      ]
    },
    {
      "cell_type": "markdown",
      "source": [
        "# 👉 **Imagine: You're a gardener and need to check if a plant needs watering. If the soil moisture level is below 40%, print \"Water the plant!\", otherwise, print \"The plant doesn't need watering.\"**"
      ],
      "metadata": {
        "id": "DMsGI9VZIURn"
      }
    },
    {
      "cell_type": "code",
      "source": [
        "# Take input of moisture level\n",
        "\n",
        "moisture_level = int(input(\"Enter moisture level in Percentage :\"))\n",
        "\n",
        "if moisture_level < 40:\n",
        "  print(\"Water the plant!\")\n",
        "else:\n",
        "  print(\"The plant doesn't need watering.\")"
      ],
      "metadata": {
        "colab": {
          "base_uri": "https://localhost:8080/"
        },
        "id": "AAqrp1v6IbQR",
        "outputId": "e8578705-7b65-459b-dad7-25ffba2cce7f"
      },
      "execution_count": null,
      "outputs": [
        {
          "output_type": "stream",
          "name": "stdout",
          "text": [
            "Enter moisture level in Percentage :30\n",
            "Water the plant!\n"
          ]
        }
      ]
    },
    {
      "cell_type": "markdown",
      "source": [
        "# 📦📬🚚 **Creating a shipping cost calculator! **⚙️"
      ],
      "metadata": {
        "id": "td7rmPS2JSro"
      }
    },
    {
      "cell_type": "markdown",
      "source": [
        "**You need to create a program that calculates the cost of shipping a package based on its weight and destination** 📦💰\n",
        "\n",
        "🌍 **Domestic shipping within the country :**\n",
        "\n",
        "**Packages weighing up to 1 kg cost Rs.50 to ship 🤑 Each additional kg costs Rs.10 extra** 💰\n",
        "🌎 **International shipping to other countries** 🌏:\n",
        "\n",
        "**Packages weighing up to 1 kg cost Rs.500 to ship** 🤑\n",
        "**Each additional kg costs Rs.100 extra 💰 Ready to ship?**🚛🚀"
      ],
      "metadata": {
        "id": "MalGtw68JUnj"
      }
    },
    {
      "cell_type": "code",
      "source": [
        "# cost of shipping a package based on its weight and destination 📦💰\n",
        "# weight is in kg and cost is in Rupees(Rs)\n",
        "\n",
        "print(\"Shipping cost calculator!\\n\")\n",
        "\n",
        "unit_weight = 1\n",
        "unit_cost_domestic = 50\n",
        "extra_cost_domestic = 10\n",
        "unit_cost_international = 500\n",
        "extra_cost_international = 100\n",
        "\n",
        "# Enter 1 for Domestic Shipping\n",
        "# Enter 2 for International Shipping\n",
        "\n",
        "\n",
        "luggage_weight = float(input(\"Enter the weight of your luggage : \"))\n",
        "additional_weight = luggage_weight - unit_weight\n",
        "\n",
        "shipping = int(input(\"Enter your option = \\n\"))\n",
        "\n",
        "if shipping == 1:\n",
        "  print(f\"Shipping cost if luggage weighs 1kg is Rs{unit_cost_domestic}\\n\")\n",
        "  luggage_cost = (additional_weight * extra_cost_domestic) + unit_cost_domestic\n",
        "  print(f\"Your total luggage cost is Rs{luggage_cost}\")\n",
        "\n",
        "elif shipping == 2:\n",
        "  print(f\"Shipping cost if luggage weighs 1kg is Rs{unit_cost_international}\\n\")\n",
        "  luggage_cost = (additional_weight * extra_cost_international) + unit_cost_international\n",
        "  print(f\"Your total luggage cost is Rs{luggage_cost}\")\n",
        "\n",
        "else:\n",
        "  print(\"Please enter either 1 or 2\")\n",
        "\n",
        "print(\"\\nThank you, Have a good time ahead\")\n"
      ],
      "metadata": {
        "colab": {
          "base_uri": "https://localhost:8080/"
        },
        "id": "wwsqUSnnJYbf",
        "outputId": "a2b9ca17-5313-4c8f-d5db-ce96a79ae620"
      },
      "execution_count": null,
      "outputs": [
        {
          "output_type": "stream",
          "name": "stdout",
          "text": [
            "Shipping cost calculator!\n",
            "\n",
            "Enter the weight of your luggage : 27\n",
            "Enter your option = \n",
            "2\n",
            "Shipping cost if luggage weighs 1kg is Rs500\n",
            "\n",
            "Your total luggage cost is Rs3100.0\n",
            "\n",
            "Thank you, Have a good time ahead\n"
          ]
        }
      ]
    },
    {
      "cell_type": "markdown",
      "source": [
        "# 🚗 **As a car dealership manager, you need to create a discount system for your customers based on the price of the car they want to buy. Here are the rules!** 📝\n",
        "\n",
        "🚘 If the car price is less than Rs. 10,00,000, there is no discount.\n",
        "\n",
        "🎁 If the car price is between Rs. 10,00,000 and Rs. 20,00,000, there is a discount of 5%.\n",
        "\n",
        "🎉 If the car price is between Rs. 20,00,000 and Rs. 30,00,000, there is a discount of 7.5%.\n",
        "\n",
        "🥳 If the car price is greater than Rs. 30,00,000, there is a discount of 10%.\n",
        "\n",
        "Are you ready to make your customers happy with these discounts? 🚗💰"
      ],
      "metadata": {
        "id": "ah-evuR6sPE4"
      }
    },
    {
      "cell_type": "code",
      "source": [
        "# For example, you may want to calculate the sale price of a shirt that regularly costs Rs 1,000.\n",
        "# If the shirt is 20% off, you must convert 20% to a decimal (20/100 = 0.2).\n",
        "# You have Rs 1,000 * 0.2 = Rs 200. You then subtract the discount from the original price as Rs 1,000 – Rs 200 = Rs 800."
      ],
      "metadata": {
        "id": "pE28IlftsVZd"
      },
      "execution_count": null,
      "outputs": []
    },
    {
      "cell_type": "code",
      "source": [
        "# create a discount system for your customers based on the price of the car they want to buy.\n",
        "\n",
        "print(\"Discount system for our customers\")\n",
        "print(\"-\" * 70)\n",
        "cost = float(input(\"Enter the price of the car: \"))\n",
        "\n",
        "if cost < 1000000:\n",
        "  print(\"Sorry you can't get discount if the price is below 10,00,000 !\")\n",
        "\n",
        "elif cost >= 1000000 and cost <= 2000000:\n",
        "  discount_price = cost - (cost * 0.05)\n",
        "  print(f\"Price after discount of 5% is Rs {discount_price}\")\n",
        "\n",
        "elif cost >= 2000000 and cost <= 3000000:\n",
        "  discount_price = cost - (cost * 0.075)\n",
        "  print(f\"Price after discount of 7.5% is Rs {discount_price}\")\n",
        "\n",
        "elif cost > 3000000:\n",
        "  discount_price = cost - (cost * 0.1)\n",
        "  print(f\"Price after discount of 10% is Rs {discount_price}\")\n",
        "\n",
        "else:\n",
        "  print(\"Enter a valid price\")\n",
        "\n",
        "print(\"-\" * 70)\n",
        "print(\"We hope our customers are happy with these discounts \")\n",
        "print(\"-\" * 70)"
      ],
      "metadata": {
        "id": "KLqC08nZqRHK",
        "colab": {
          "base_uri": "https://localhost:8080/"
        },
        "outputId": "b66fb4c8-6586-4f30-eb2d-ce1fa0dc85ed"
      },
      "execution_count": null,
      "outputs": [
        {
          "output_type": "stream",
          "name": "stdout",
          "text": [
            "Discount system for our customers\n",
            "----------------------------------------------------------------------\n",
            "Enter the price of the car: 1500000\n",
            "Price after discount of 5% is Rs 1425000.0\n",
            "----------------------------------------------------------------------\n",
            "We hope our customers are happy with these discounts \n",
            "----------------------------------------------------------------------\n"
          ]
        }
      ]
    },
    {
      "cell_type": "markdown",
      "source": [
        "# **Loops & Iterations**"
      ],
      "metadata": {
        "id": "EIcSyni__NNa"
      }
    },
    {
      "cell_type": "markdown",
      "source": [
        "**You and your friends are playing a board game where you roll a dice and move your game piece accordingly. However, you want to know the average number rolled by each player to see who's really the luckiest. Write a program that takes a list of rolls as input for each player and uses a for loop to calculate the average roll for each player. The winner gets bragging rights for being the luckiest!**"
      ],
      "metadata": {
        "id": "h78SUvuf_O6D"
      }
    },
    {
      "cell_type": "markdown",
      "source": [
        "Define a list of rolls for each player, where each list contains the numbers rolled by the player.\n",
        "Use a for loop to iterate over each player's rolls in the list of player rolls.\n",
        "For each player, calculate the average roll by summing up all the rolls and dividing by the number of rolls. You can use the formula sum(rolls) / len(rolls) to do this.\n",
        "Print out each player's average roll using f-strings to display the player number and their average roll to two decimal places."
      ],
      "metadata": {
        "id": "4NPLFPXSAw52"
      }
    },
    {
      "cell_type": "code",
      "source": [
        "player_rolls = [\n",
        "    [3, 5, 6, 2, 1],  # player 1's rolls\n",
        "    [4, 4, 6, 3, 2],  # player 2's rolls\n",
        "    [1, 5, 6, 6, 4]   # player 3's rolls\n",
        "]\n",
        "# list of a list"
      ],
      "metadata": {
        "id": "SavpsMqsAyEz"
      },
      "execution_count": null,
      "outputs": []
    },
    {
      "cell_type": "code",
      "source": [
        "# Board game\n",
        "\n",
        "max_avg = 0\n",
        "max_index = 0\n",
        "\n",
        "for index in range(len(player_rolls)):\n",
        "  #print(player_rolls[index])\n",
        "  average_index = sum(player_rolls[index])/len(player_rolls[index])\n",
        "  #print(average_index)\n",
        "  if average_index>max_avg:\n",
        "    max_avg = average_index\n",
        "    max_index = index\n",
        "  print(f\"Maximum average is {max_avg}\")\n",
        "\n",
        "  print(f\"For player {max_index+1}\")\n",
        "  print(\"-\" * 70)"
      ],
      "metadata": {
        "colab": {
          "base_uri": "https://localhost:8080/"
        },
        "id": "vZwsqNEi_VMW",
        "outputId": "4929450b-4a41-46c3-a364-f37ee41e92d6"
      },
      "execution_count": null,
      "outputs": [
        {
          "output_type": "stream",
          "name": "stdout",
          "text": [
            "Maximum average is 3.4\n",
            "For player 1\n",
            "----------------------------------------------------------------------\n",
            "Maximum average is 3.8\n",
            "For player 2\n",
            "----------------------------------------------------------------------\n",
            "Maximum average is 4.4\n",
            "For player 3\n",
            "----------------------------------------------------------------------\n"
          ]
        }
      ]
    },
    {
      "cell_type": "markdown",
      "source": [
        "# **Write a Python program that analyzes a list of names and sorts them into two categories: those that start with a vowel and those that start with a consonant. To achieve this, you'll use a nested loop and some basic conditional statements.**"
      ],
      "metadata": {
        "id": "Vw4l9G0hGL5Z"
      }
    },
    {
      "cell_type": "markdown",
      "source": [
        "Start by defining a list of names. You can call this list names and initialize it with a few names.\n",
        "\n",
        "Define two empty lists to store the names that start with vowels and consonants, respectively. You can call these lists vowel_names and consonant_names.\n",
        "\n",
        "Use a nested loop to iterate through each name in the names list. The outer loop should iterate through each name, while the inner loop should iterate through each character in the name.\n",
        "\n",
        "Inside the inner loop, use an if statement to check if the first letter of the name is a vowel or a consonant. You can do this by checking if the first character of the name is in a list of vowels.\n",
        "\n",
        "If the first letter is a vowel, append the name to the vowel_names list using the append() method.\n",
        "\n",
        "If the first letter is a consonant, append the name to the consonant_names list using the append() method.\n",
        "\n",
        "Once the loop has finished iterating through all the names, use the print() function to print the two lists of names. You can include a message indicating which list contains the names that start with vowels and which list contains the names that start with consonants"
      ],
      "metadata": {
        "id": "PkrGm-4LGU2H"
      }
    },
    {
      "cell_type": "code",
      "source": [
        "names = [\"Alice\", \"Bob\", \"Eve\", \"Charlie\", \"Ivy\", \"David\", \"Olivia\", \"Peter\"]\n"
      ],
      "metadata": {
        "id": "GN6KCIahGqjw"
      },
      "execution_count": null,
      "outputs": []
    },
    {
      "cell_type": "code",
      "source": [
        "vowel_names = []\n",
        "consonant_names = []\n",
        "\n",
        "print(\"The original list is : \" + str(names))\n",
        "vowels = 'AEIOU'\n",
        "# consonants = 'BCDFGHJKLMNPQRSTVWXYZ'\n",
        "for i in names:\n",
        "  if i[0] in vowels:\n",
        "    vowel_names.append(i)\n",
        "\n",
        "  else:\n",
        "    consonant_names.append(i)\n",
        "\n",
        "print(\"The vowel names are : \" + str(vowel_names))\n",
        "print(\"The consonants names are : \" + str(consonant_names))\n",
        "\n",
        "\n",
        "\n",
        "\n"
      ],
      "metadata": {
        "colab": {
          "base_uri": "https://localhost:8080/"
        },
        "id": "Z6LaJtUnGxFD",
        "outputId": "f8647a16-03bb-49c9-ce6c-ea86f87fd2e5"
      },
      "execution_count": null,
      "outputs": [
        {
          "output_type": "stream",
          "name": "stdout",
          "text": [
            "The original list is : ['Alice', 'Bob', 'Eve', 'Charlie', 'Ivy', 'David', 'Olivia', 'Peter']\n",
            "The vowel names are : ['Alice', 'Eve', 'Ivy', 'Olivia']\n",
            "The consonants names are : ['Bob', 'Charlie', 'David', 'Peter']\n"
          ]
        }
      ]
    },
    {
      "cell_type": "markdown",
      "source": [
        "**You are a teacher and you have a dictionary containing the grades of your students in a particular subject. The keys of the dictionary are the names of the students, and the values are their respective grades. You need to find the students who scored above 90% and print out their names.**"
      ],
      "metadata": {
        "id": "9O-NYNJEzSXR"
      }
    },
    {
      "cell_type": "markdown",
      "source": [
        "Define a dictionary to store the grades of the students. The keys of the dictionary should be the names of the students, and the values should be their respective grades.\n",
        "\n",
        "Loop through the dictionary using a for loop and retrieve the grade of each student.\n",
        "\n",
        "Check if the grade is greater than 90%. If it is, print out the name of the student.\n",
        "\n",
        "Repeat steps 2-3 for all the students in the dictionary.\n",
        "\n",
        "Once the loop is complete, the names of the students who scored above 90% will have been printed to the console."
      ],
      "metadata": {
        "id": "Zral-iq4zhiK"
      }
    },
    {
      "cell_type": "code",
      "source": [
        "# Define the grades dictionary\n",
        "grades = {\n",
        "    'Alice': 85,\n",
        "    'Bob': 92,\n",
        "    'Charlie': 88,\n",
        "    'David': 95,\n",
        "    'Emily': 78,\n",
        "    'Frank': 91\n",
        "}\n"
      ],
      "metadata": {
        "id": "K5_VoAlt0-W2"
      },
      "execution_count": null,
      "outputs": []
    },
    {
      "cell_type": "code",
      "source": [
        "print(grades)"
      ],
      "metadata": {
        "colab": {
          "base_uri": "https://localhost:8080/"
        },
        "id": "4FMrZ2Bm0__F",
        "outputId": "7bdec818-75d6-4dc8-ad96-bceb299f0578"
      },
      "execution_count": null,
      "outputs": [
        {
          "output_type": "stream",
          "name": "stdout",
          "text": [
            "{'Alice': 85, 'Bob': 92, 'Charlie': 88, 'David': 95, 'Emily': 78, 'Frank': 91}\n"
          ]
        }
      ]
    },
    {
      "cell_type": "code",
      "source": [
        "for student, grade in grades.items():\n",
        "  if grade > 90 :\n",
        "    print(student, grade)\n",
        "\n",
        "\n",
        "\n",
        "\n",
        "\n",
        "\n",
        "\n"
      ],
      "metadata": {
        "colab": {
          "base_uri": "https://localhost:8080/"
        },
        "id": "TeE-K_VJ2VKp",
        "outputId": "1986e2d9-fe48-4409-f1ff-bc70a4cd8b8b"
      },
      "execution_count": null,
      "outputs": [
        {
          "output_type": "stream",
          "name": "stdout",
          "text": [
            "Bob 92\n",
            "David 95\n",
            "Frank 91\n"
          ]
        }
      ]
    },
    {
      "cell_type": "markdown",
      "source": [
        "# **You're given a nested list of numbers, and your task is to count the number of odd and even numbers in the list. To achieve this, you'll use a nested loop and some basic conditional statements.**"
      ],
      "metadata": {
        "id": "GUXqn7iBfO2X"
      }
    },
    {
      "cell_type": "markdown",
      "source": [
        "Inititate the odd and even count variables.\n",
        "\n",
        "Iterate through the outer list first. ie, [2,5,11,20,8] would be the item in the first iteration.\n",
        "\n",
        "Iterate through this resulting list using an inner for loop.\n",
        "\n",
        "Check if the number is odd or even, and add the count to the counter variables initialised before.\n",
        "\n",
        "Print the odd and even counts."
      ],
      "metadata": {
        "id": "ClDrM8wwfQw7"
      }
    },
    {
      "cell_type": "code",
      "source": [
        "# List of numbers\n",
        "numbers = [\n",
        "    [2, 5, 11, 20, 8],\n",
        "    [9, 4, 15, 28, 17],\n",
        "    [1, 6, 21, 18, 3],\n",
        "    [10, 13, 25, 33, 30],\n",
        "    [14, 7, 16, 19, 22]\n",
        "]\n"
      ],
      "metadata": {
        "id": "rshT4ThCfpDA"
      },
      "execution_count": null,
      "outputs": []
    },
    {
      "cell_type": "code",
      "source": [
        "# print(numbers)\n",
        "count = 0\n",
        "even_count = 0\n",
        "odd_count = 0\n",
        "\n",
        "for i in numbers:\n",
        "  for j in i:\n",
        "    if j % 2 == 0:\n",
        "      even_count = even_count + 1\n",
        "    else:\n",
        "      odd_count = odd_count + 1\n",
        "\n",
        "print(f\"Even number count in the lsit is {even_count}\")\n",
        "print(\"-\" * 40)\n",
        "print(f\"Odd number count in the lsit is {odd_count}\")\n"
      ],
      "metadata": {
        "colab": {
          "base_uri": "https://localhost:8080/"
        },
        "id": "ofQGOX7hfYOb",
        "outputId": "d25df53e-3456-4a7d-c6b4-593ef43bd032"
      },
      "execution_count": null,
      "outputs": [
        {
          "output_type": "stream",
          "name": "stdout",
          "text": [
            "Even number count in the lsit is 12\n",
            "----------------------------------------\n",
            "Odd number count in the lsit is 13\n"
          ]
        }
      ]
    },
    {
      "cell_type": "markdown",
      "source": [
        "Instructions\n",
        "\n",
        "Inititiate the list.\n",
        "Iterate through the list in first loop.\n",
        "Iterate throught the same list in inner loop.\n",
        "Compare the element in the outer and inner loops. If they are not the same players, print \"Player x plays against Player y\"."
      ],
      "metadata": {
        "id": "CEG_hQYfU9Tz"
      }
    },
    {
      "cell_type": "code",
      "source": [
        "# Write Your Code Here\n",
        "players = ['Alice', 'Bob', 'Charlie', 'Diana']\n",
        "\n",
        "for i in players:\n",
        "  for j in players:\n",
        "    if i != j:\n",
        "      print(\"player\",i, \"plays against\",j )\n",
        "\n"
      ],
      "metadata": {
        "colab": {
          "base_uri": "https://localhost:8080/"
        },
        "id": "wcgz_cRbVtWL",
        "outputId": "df8f8fc5-4fe5-4167-eeb7-3f1ead31060b"
      },
      "execution_count": null,
      "outputs": [
        {
          "output_type": "stream",
          "name": "stdout",
          "text": [
            "player Alice plays against Bob\n",
            "player Alice plays against Charlie\n",
            "player Alice plays against Diana\n",
            "player Bob plays against Alice\n",
            "player Bob plays against Charlie\n",
            "player Bob plays against Diana\n",
            "player Charlie plays against Alice\n",
            "player Charlie plays against Bob\n",
            "player Charlie plays against Diana\n",
            "player Diana plays against Alice\n",
            "player Diana plays against Bob\n",
            "player Diana plays against Charlie\n"
          ]
        }
      ]
    },
    {
      "cell_type": "markdown",
      "source": [
        "# **Conditional & Infinite Looping**"
      ],
      "metadata": {
        "id": "PBfy6kcDXTZB"
      }
    },
    {
      "cell_type": "markdown",
      "source": [
        "# **Building a Simple Calculator**\n",
        "\n",
        "In this activity, you will build a simple calculator using conditional looping in Python. The calculator will ask the user for two numbers and an operation (addition, subtraction, multiplication, or division), and then perform the operation on the two numbers."
      ],
      "metadata": {
        "id": "qaAx2C1UXZ6Z"
      }
    },
    {
      "cell_type": "markdown",
      "source": [
        "First, enter your first choice number.\n",
        "\n",
        "Second, enter your second choice number.\n",
        "\n",
        "Choose or enter the operation you want to perform.User Input will be \"(addition, subtraction, multiplication, or division)\".\n",
        "\n",
        "Use a conditional loop to perform the appropriate operation you want to perform.\n",
        "\n",
        "Finally, print the result of the opera"
      ],
      "metadata": {
        "id": "ox7hEa6gXiCa"
      }
    },
    {
      "cell_type": "code",
      "source": [
        "print(\"---------------------Simple Calculater------------------------\")\n",
        "\n",
        "print(\"1. Adittion\")\n",
        "print(\"2. Substraction\")\n",
        "print(\"3. Multiplication\")\n",
        "print(\"4. Division\")\n",
        "\n",
        "choice = input(\"Enter your choice here (1/2/3/4):\")\n",
        "print(\"\\n\")\n",
        "first = float(input(\"Enter your first choice number : \"))\n",
        "second = float(input(\"Enter your second choice number : \"))\n",
        "\n",
        "if choice == '1':\n",
        "  print(first + second)\n",
        "elif choice == '2':\n",
        "  print(first - second)\n",
        "elif choice == '3':\n",
        "  print(first * second)\n",
        "elif choice == '4':\n",
        "  if second != 0:\n",
        "    print(first / second)\n",
        "  else:\n",
        "    print(\"Error! Division with is not allowed\")\n",
        "else:\n",
        "  print(\"Invalid option. Please try 1,2,3,4\")\n",
        "\n",
        "\n"
      ],
      "metadata": {
        "colab": {
          "base_uri": "https://localhost:8080/"
        },
        "id": "CCdhXWeDX1RU",
        "outputId": "e8461395-69dd-48f8-e059-c1d0306b4301"
      },
      "execution_count": null,
      "outputs": [
        {
          "output_type": "stream",
          "name": "stdout",
          "text": [
            "---------------------Simple Calculater------------------------\n",
            "1. Adittion\n",
            "2. Substraction\n",
            "3. Multiplication\n",
            "4. Division\n",
            "Enter your choice here (1/2/3/4):6\n",
            "\n",
            "\n",
            "Enter your first choice number : 10\n",
            "Enter your second choice number : 2\n",
            "Invalid option. Please try 1,2,3,4\n"
          ]
        }
      ]
    },
    {
      "cell_type": "markdown",
      "source": [
        "# **Building a Guessing Game**\n",
        "\n",
        "In this activity, you will build a simple guessing game using conditional looping in Python. The game will generate a random number between 1 and 100, and the user will have to guess the number within a certain number of tries. The program will provide hints to the user after each guess, telling them whether their guess is too high or too low\n",
        "\n",
        "\n",
        "Instructions:\n",
        "\n",
        "First, import the \"random\" module to generate a random number for the game.\n",
        "\n",
        "Next, enter the number of tries you want to have and set a counter to keep track of how many tries you are left with.\n",
        "\n",
        "Now, use a while loop to allow yourself to keep guessing until you either guess the correct number or run out of tries.\n",
        "\n",
        "Finally, if you run out of tries without guessing the correct number, print a message telling what the secret number was."
      ],
      "metadata": {
        "id": "tH3Y6eox_QHy"
      }
    },
    {
      "cell_type": "code",
      "source": [
        "import random\n",
        "\n",
        "# Generate a random number between 1 and 100\n",
        "secret_number = random.randint(1, 10)\n",
        "print(\"-------------Guessing game-----------------------\")\n",
        "print()\n",
        "count = 0\n",
        "while count < 3:\n",
        "  guess = int(input(\"Guess the number - \" ))\n",
        "  count += 1\n",
        "  if guess == secret_number:\n",
        "    print(\"Congratulation you won\")\n",
        "    break\n",
        "  elif guess < secret_number:\n",
        "    print(\"Your guess is lower than the secret number\")\n",
        "  elif guess > secret_number:\n",
        "    print(\"Your guess is higher than the secret number\")\n",
        "else:\n",
        "  print(\"\\nSorry you lost, By the way secret number was\",secret_number)\n",
        "  print(\"Better luck next time\")"
      ],
      "metadata": {
        "colab": {
          "base_uri": "https://localhost:8080/"
        },
        "id": "hiFQ-n62_l9z",
        "outputId": "fc4804cf-9844-469b-efc9-3483ee5a8819"
      },
      "execution_count": null,
      "outputs": [
        {
          "output_type": "stream",
          "name": "stdout",
          "text": [
            "-------------Guessing game-----------------------\n",
            "\n",
            "Guess the number - 7\n",
            "Your guess is lower than the secret number\n",
            "Guess the number - 9\n",
            "Your guess is lower than the secret number\n",
            "Guess the number - 10\n",
            "Congratulation you won\n"
          ]
        }
      ]
    },
    {
      "cell_type": "markdown",
      "source": [
        "# **Building a Fibonacci Sequence Generator**\n",
        "\n",
        "In this activity, you will build a program that generates a Fibonacci sequence using conditional looping in Python. The Fibonacci sequence is a series of numbers in which each number is the sum of the two preceding numbers. The sequence starts with 0 and 1, and the next number in the sequence is the sum of the previous two numbers\n",
        "\n",
        "Instructions:\n",
        "\n",
        "First, enter how many terms you want in the sequence.\n",
        "\n",
        "Then, initialize the first two terms of the sequence.\n",
        "\n",
        "Use a while loop to generate the remaining terms of the sequence.\n",
        "\n",
        "Finally, print the sequence."
      ],
      "metadata": {
        "id": "hYpQYqMoyXDi"
      }
    },
    {
      "cell_type": "code",
      "source": [
        "print(\"--------------------Fibonacci series----------------\")\n",
        "print()\n",
        "terms =  int(input(\"How many terms you want in the sequence: \"))\n",
        "first = 0\n",
        "second = 1\n",
        "count = 0\n",
        "\n",
        "if terms == 0:\n",
        "  print(first)\n",
        "elif terms == 1:\n",
        "  print(second)\n",
        "else:\n",
        "  print(\"Fibonacci sequence:\")\n",
        "  while count < terms:\n",
        "    print(first)\n",
        "    num = first + second\n",
        "    first = second\n",
        "    second = num\n",
        "    count += 1\n",
        "\n",
        "\n"
      ],
      "metadata": {
        "id": "M-iHR_0bXpuo",
        "colab": {
          "base_uri": "https://localhost:8080/"
        },
        "outputId": "ffa81798-aeca-4423-a614-029cd1f83321"
      },
      "execution_count": null,
      "outputs": [
        {
          "output_type": "stream",
          "name": "stdout",
          "text": [
            "--------------------Fibonacci series----------------\n",
            "\n",
            "How many terms you want in the sequence: 5\n",
            "Fibonacci sequence:\n",
            "0\n",
            "1\n",
            "1\n",
            "2\n",
            "3\n"
          ]
        }
      ]
    },
    {
      "cell_type": "markdown",
      "source": [
        "# **Counting the Digit**\n",
        "\n",
        "You have been given a task to write a Python program that counts the number of times a specific digit appears in a range of numbers. You need to use a for loop to iterate over the range of numbers, and a while loop to check each digit in the number\n",
        "\n",
        "Example:\n",
        "\n",
        "Enter start number: 100\n",
        "\n",
        "Enter end number: 150\n",
        "\n",
        "Enter digit to count: 5\n",
        "\n",
        "The digit 5 appears 6 times between 100 and 150"
      ],
      "metadata": {
        "id": "4HUyS6ErEUqp"
      }
    },
    {
      "cell_type": "code",
      "source": [
        "for i in range(100,110):\n",
        "  print(i)"
      ],
      "metadata": {
        "colab": {
          "base_uri": "https://localhost:8080/"
        },
        "id": "4wdU9jFKEiZd",
        "outputId": "2b805ce7-7a1e-41cd-f829-26b3a84ee867"
      },
      "execution_count": null,
      "outputs": [
        {
          "output_type": "stream",
          "name": "stdout",
          "text": [
            "100\n",
            "101\n",
            "102\n",
            "103\n",
            "104\n",
            "105\n",
            "106\n",
            "107\n",
            "108\n",
            "109\n"
          ]
        }
      ]
    },
    {
      "cell_type": "markdown",
      "source": [
        "# **Custom Functions in Python**"
      ],
      "metadata": {
        "id": "NJWx7LvkGSiS"
      }
    },
    {
      "cell_type": "markdown",
      "source": [
        "# **Building a Calculator**\n",
        "\n",
        "In this activity, we will create a custom function in Python to build a calculator that can perform basic arithmetic operations such as addition, subtraction, multiplication, and division.\n",
        "\n",
        "Instructions:\n",
        "\n",
        "Define a function called calculator that takes three arguments: num1, num2, and operation.\n",
        "\n",
        "In the function, use an if-else statement to determine the arithmetic operation to perform based on the value of operation.\n",
        "\n",
        "If operation is '+', return the sum of num1 and num2.\n",
        "\n",
        "If operation is '-', return the difference between num1 and num2.\n",
        "\n",
        "If operation is '*', return the product of num1 and num2.\n",
        "\n",
        "If operation is '/', return the quotient of num1 and num2.\n",
        "\n",
        "If operation is not one of the four valid arithmetic operations, return the string \"Invalid operation\".\n",
        "\n",
        "Test your function by calling it with different values for num1, num2, and operation"
      ],
      "metadata": {
        "id": "XfW_XsDxGV5S"
      }
    },
    {
      "cell_type": "code",
      "source": [
        "# Define a function called calculator that takes three arguments: num1, num2, and operation\n",
        "\n",
        "def calculator(num1, num2, operation):\n",
        "  if operation == 1:\n",
        "    return num1 + num2\n",
        "  elif operation == 2:\n",
        "    return num1 - num2\n",
        "  elif operation == 3:\n",
        "    return num1 * num2\n",
        "  elif operation == 4:\n",
        "    if num2 != 0:\n",
        "      return num1 / num2\n",
        "    else:\n",
        "      print(\"Dividing with 0 is not allowed\")\n",
        "  else:\n",
        "    print(\"Invalid option. Please try 1,2,3,4\")\n",
        "\n",
        "\n",
        "calculator(40,0,4)\n",
        "\n"
      ],
      "metadata": {
        "colab": {
          "base_uri": "https://localhost:8080/"
        },
        "id": "fgdSBQf_GrZm",
        "outputId": "8fcfb297-405b-4999-df4e-c899f9c3295b"
      },
      "execution_count": null,
      "outputs": [
        {
          "output_type": "stream",
          "name": "stdout",
          "text": [
            "Dividing with 0 is not allowed\n"
          ]
        }
      ]
    },
    {
      "cell_type": "markdown",
      "source": [
        "# **Dice Rolling** 🎲\n",
        "\n",
        "**Roll a dice and display the result.** 🎲"
      ],
      "metadata": {
        "id": "6R6G4ud9LFK9"
      }
    },
    {
      "cell_type": "markdown",
      "source": [
        "**What is the random module?**\n",
        "\n",
        "The random module is a built-in Python module that provides a suite of functions for generating random numbers and sequences. This module is often used in applications where randomization is important, such as games, simulations, and cryptography."
      ],
      "metadata": {
        "id": "TbSCXxfALMm1"
      }
    },
    {
      "cell_type": "markdown",
      "source": [
        "Instructions:\n",
        "\n",
        "The random module shoud be imported to generate a random number for the dice roll.\n",
        "\n",
        "roll_dice() is defined as a custom function that generates a random number between 1 and 6.\n",
        "\n",
        "The function returns the result of the dice roll.\n",
        "\n",
        "The result variable is assigned to the return value of the roll_dice() function.\n",
        "\n",
        "The result is printed using a formatted string."
      ],
      "metadata": {
        "id": "xk996mXfMs-O"
      }
    },
    {
      "cell_type": "code",
      "source": [
        "import random\n",
        "\n",
        "def roll_dice():\n",
        " dice = random.randint(1,6)\n",
        " return dice\n",
        "  # repeat = input(\"Do you wanna roll again Y/N?\")\n",
        "\n",
        "\n",
        "print(f\"your number: {roll_dice()}\")\n",
        "# repeat = input(\"Do you wanna roll again Y/N?\")"
      ],
      "metadata": {
        "colab": {
          "base_uri": "https://localhost:8080/"
        },
        "id": "iNLTElfFMyRL",
        "outputId": "f230aaea-1ad2-468c-a0c5-cc9f655d5a27"
      },
      "execution_count": null,
      "outputs": [
        {
          "output_type": "stream",
          "name": "stdout",
          "text": [
            "your number: 3\n"
          ]
        }
      ]
    },
    {
      "cell_type": "markdown",
      "source": [
        "# **Celsius to Fahrenheit Converter**\n",
        "\n",
        "Create a custom function that takes in a temperature in Celsius and returns the temperature in Fahrenheit.\n",
        "\n",
        "For example: If the input temperature is 20 degrees Celsius, the output temperature should be 68 degrees Fahrenheit.\n",
        "\n",
        "To create this function, you can use the formula to convert the temperature in Celsius to Fahrenheit. The formula for converting Celsius to Fahrenheit is F = (C * 9/5) + 32, where F is the temperature in Fahrenheit and C is the temperature in Celsius."
      ],
      "metadata": {
        "id": "Hr71U5LtVhvM"
      }
    },
    {
      "cell_type": "code",
      "source": [
        "def converter(c):\n",
        "  f = [c * (9/5) + 32]\n",
        "  return f\n",
        "\n",
        "c = float(input(\"Enter the temperature in celsius : \"))\n",
        "converter(c)\n"
      ],
      "metadata": {
        "colab": {
          "base_uri": "https://localhost:8080/"
        },
        "id": "OQgFFgddVtZ_",
        "outputId": "a18be418-1156-42bc-9ff0-9df76ad5e112"
      },
      "execution_count": null,
      "outputs": [
        {
          "name": "stdout",
          "output_type": "stream",
          "text": [
            "Enter the temperature in celsius : 20\n"
          ]
        },
        {
          "output_type": "execute_result",
          "data": {
            "text/plain": [
              "[68.0]"
            ]
          },
          "metadata": {},
          "execution_count": 32
        }
      ]
    },
    {
      "cell_type": "markdown",
      "source": [
        "# **Sum odd Numbers** ➖\n",
        "\n",
        "**In this activity, you will create a custom function in Python that takes a list of integers as an argument and returns the sum of all odd numbers in the list.**"
      ],
      "metadata": {
        "id": "tkQOZNMQYA73"
      }
    },
    {
      "cell_type": "code",
      "source": [
        "def sum_odd(a):\n",
        "  sum = 0\n",
        "  for i in a:\n",
        "    if i%2 != 0:\n",
        "      sum = sum + i\n",
        "  print(f'sum of odd numbers in the list is : {sum}')\n",
        "\n",
        "\n",
        "a = [1,2,3,4,5,6]\n",
        "\n",
        "sum_odd(a)\n"
      ],
      "metadata": {
        "colab": {
          "base_uri": "https://localhost:8080/"
        },
        "id": "CJnjWekWYYxF",
        "outputId": "046e2f76-d9b2-4907-db0c-95488a4bbea1"
      },
      "execution_count": null,
      "outputs": [
        {
          "output_type": "stream",
          "name": "stdout",
          "text": [
            "sum of odd numbers in the list is : 9\n"
          ]
        }
      ]
    },
    {
      "cell_type": "markdown",
      "source": [
        "# **Advanced Looping Concepts**"
      ],
      "metadata": {
        "id": "tueLRxW4Dhmb"
      }
    },
    {
      "cell_type": "markdown",
      "source": [
        "# **Lambda Functions**\n",
        "\n",
        "🧑‍💻 You are working as a Python developer for a startup company that has just received a project from a client. The client wants a program that can perform certain operations on lists using lambda functions. Your manager has assigned you the task of finding the sum of squared odd numbers from the list.\n",
        "\n",
        "👉 Hint: You have to use filter, map and reduce functions to get the task done"
      ],
      "metadata": {
        "id": "oJilGAvoDmyn"
      }
    },
    {
      "cell_type": "markdown",
      "source": [
        "Instructions:\n",
        "\n",
        "Begin by creating a list of numbers from 1 to 10.\n",
        "\n",
        "Use a lambda function to filter out all even numbers from the list.\n",
        "\n",
        "Use a lambda function to square all the remaining odd numbers in the filtered list.\n",
        "\n",
        "Use a lambda function to find the sum of all the squared odd numbers in the list.\n",
        "\n",
        "Print the final result."
      ],
      "metadata": {
        "id": "tNUib9ChDxEN"
      }
    },
    {
      "cell_type": "code",
      "source": [
        "# usesd lambda function with fiter method\n",
        "\n",
        "lst = list(range(1,11))\n",
        "# print(lst)\n",
        "\n",
        "sum_squared_odd = sum(map(lambda x: x**2, filter(lambda x: x % 2 != 0, lst)))\n",
        "\n",
        "print(sum_squared_odd)"
      ],
      "metadata": {
        "colab": {
          "base_uri": "https://localhost:8080/"
        },
        "id": "4mRDXIpdD9vj",
        "outputId": "4900be50-4e30-4f35-d110-d179bd3cb756"
      },
      "execution_count": null,
      "outputs": [
        {
          "output_type": "stream",
          "name": "stdout",
          "text": [
            "165\n"
          ]
        }
      ]
    },
    {
      "cell_type": "code",
      "source": [
        "# same code without using lambda function\n",
        "\n",
        "sum = 0\n",
        "lst = list(range(1,11))\n",
        "\n",
        "for i in lst:\n",
        "  if i % 2 != 0:\n",
        "    square = i ** 2\n",
        "    sum = sum + square\n",
        "print(sum)\n"
      ],
      "metadata": {
        "colab": {
          "base_uri": "https://localhost:8080/"
        },
        "id": "ADeSTxonKrot",
        "outputId": "b32b4700-0c7f-4fb7-f8c1-f4072fad8213"
      },
      "execution_count": null,
      "outputs": [
        {
          "output_type": "stream",
          "name": "stdout",
          "text": [
            "165\n"
          ]
        }
      ]
    },
    {
      "cell_type": "markdown",
      "source": [
        "# **Pizza Toppings**\n",
        "\n",
        "🍕🍔 You have two lists, one containing pizza toppings and the other containing burger toppings. You need to create a new list that contains all the toppings from both the pizza and burger toppings lists, but only if they have more than 5 characters in their name.\n",
        "\n",
        "Can you write the code to create a new list that contains all the toppings from both the pizza and burger toppings lists, but only if they have more than 5 characters in their name using list comprehension only?\n",
        "\n",
        "👉 Hint: You can use a conditional statement to check the length of each topping's name.\n",
        "\n",
        "Instructions:\n",
        "\n",
        "Create two lists of toppings, one for pizza and one for burgers.\n",
        "\n",
        "Use list comprehension to iterate over both the pizza and burger toppings lists, and combine them into a new list.\n",
        "\n",
        "Use a conditional statement to check the length of each topping's name, and only include it in the new list if it has more than 5 characters.\n",
        "\n"
      ],
      "metadata": {
        "id": "0gaUso_2L0GQ"
      }
    },
    {
      "cell_type": "code",
      "source": [
        "# Here are the example lists of toppings\n",
        "# without using list comprehension\n",
        "pizza_toppings = ['mushroom', 'olive', 'tomato', 'pepperoni', 'onion', 'garlic']\n",
        "burger_toppings = ['lettuce', 'cheese', 'mayonnaise', 'bacon', 'pickle', 'avocado']\n",
        "\n",
        "new = []\n",
        "\n",
        "for i in pizza_toppings:\n",
        "  if len(i) > 5:\n",
        "    new.append(i)\n",
        "\n",
        "for j in burger_toppings:\n",
        "  if len(j) > 5:\n",
        "    new.append(j)\n",
        "\n",
        "print(new)\n"
      ],
      "metadata": {
        "colab": {
          "base_uri": "https://localhost:8080/"
        },
        "id": "yxO8MsC3MHOB",
        "outputId": "1813acb3-311e-4d39-a204-d7a59754d82d"
      },
      "execution_count": null,
      "outputs": [
        {
          "output_type": "stream",
          "name": "stdout",
          "text": [
            "['mushroom', 'tomato', 'pepperoni', 'garlic', 'lettuce', 'cheese', 'mayonnaise', 'pickle', 'avocado']\n"
          ]
        }
      ]
    },
    {
      "cell_type": "markdown",
      "source": [],
      "metadata": {
        "id": "ZhH4RGLbL28i"
      }
    },
    {
      "cell_type": "markdown",
      "source": [],
      "metadata": {
        "id": "O2LT4AZIXb97"
      }
    }
  ]
}